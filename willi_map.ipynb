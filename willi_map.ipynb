{
 "cells": [
  {
   "cell_type": "code",
   "execution_count": 3,
   "metadata": {},
   "outputs": [
    {
     "name": "stdout",
     "output_type": "stream",
     "text": [
      "hallo\n",
      "Ich bin ein Vogel und mache: ich fliege\n",
      "Ich bin ein Hamster und mache: ich bin süß\n"
     ]
    }
   ],
   "source": [
    "print('hallo')\n",
    "\n",
    "class Vogel():\n",
    "    def fliegen(self, message):\n",
    "        print(f\"Ich bin ein Vogel und mache: {message}\")\n",
    "\n",
    "class Hamster():\n",
    "    def putzig_sein(self, message):\n",
    "        print(f\"Ich bin ein Hamster und mache: {message}\")\n",
    "\n",
    "vogel = Vogel()\n",
    "hamster = Hamster()\n",
    "\n",
    "willi_map = {\n",
    "    \"Vogel\": vogel.fliegen,\n",
    "    \"Hamster\": hamster.putzig_sein,\n",
    "}\n",
    "\n",
    "class SehrKomplizierterSchit:\n",
    "    def __init__(self, tier):\n",
    "        self.tier = tier\n",
    "\n",
    "    def tierSchnittstelle(self, message):\n",
    "        willi_map[self.gibMirDenKlassenNamen()](message)\n",
    "\n",
    "    def gibMirDenKlassenNamen(self):\n",
    "        return type(self.tier).__name__    \n",
    "\n",
    "shit1 = SehrKomplizierterSchit(vogel)\n",
    "shit2 = SehrKomplizierterSchit(hamster)\n",
    "\n",
    "shit1.tierSchnittstelle(\"ich fliege\")\n",
    "shit2.tierSchnittstelle(\"ich bin süß\")\n"
   ]
  }
 ],
 "metadata": {
  "kernelspec": {
   "display_name": "Python 3",
   "language": "python",
   "name": "python3"
  },
  "language_info": {
   "codemirror_mode": {
    "name": "ipython",
    "version": 3
   },
   "file_extension": ".py",
   "mimetype": "text/x-python",
   "name": "python",
   "nbconvert_exporter": "python",
   "pygments_lexer": "ipython3",
   "version": "3.12.0"
  }
 },
 "nbformat": 4,
 "nbformat_minor": 2
}
