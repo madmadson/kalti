{
 "cells": [
  {
   "cell_type": "code",
   "execution_count": 4,
   "metadata": {},
   "outputs": [
    {
     "name": "stdout",
     "output_type": "stream",
     "text": [
      "hallo\n",
      "Sending email: This is an email alert!\n",
      "Sending SMS: This is an SMS alert!\n"
     ]
    }
   ],
   "source": [
    "print('hallo')\n",
    "\n",
    "\n",
    "class ITier:\n",
    "    def machWas(self, message):\n",
    "        raise NotImplementedError\n",
    "\n",
    "\n",
    "class Vogel():\n",
    "    def machWas(self, message):\n",
    "        print(f\"Ich bin ein Vogel und mache: {message}\")\n",
    "\n",
    "class Hamster():\n",
    "    def machWas(self, message):\n",
    "        print(f\"Ich bin ein Vogel und mache: {message}\")\n",
    "\n",
    "class SehrKomplizierterSchit:\n",
    "    def __init__(self, tier: ITier):\n",
    "        self.tier = tier\n",
    "\n",
    "    def tierSchnittstelle(self, message):\n",
    "        self.tier.machWas(message)\n",
    "\n",
    "\n",
    "vogel = Vogel()\n",
    "hamster = Hamster()\n",
    "\n",
    "shit1 = SehrKomplizierterSchit(vogel)\n",
    "shit2 = SehrKomplizierterSchit(hamster)\n",
    "\n",
    "\n",
    "shit1.tierSchnittstelle(\"ich fliege\")\n",
    "shit2.tierSchnittstelle(\"ich bin süß\")\n"
   ]
  }
 ],
 "metadata": {
  "kernelspec": {
   "display_name": "Python 3",
   "language": "python",
   "name": "python3"
  },
  "language_info": {
   "codemirror_mode": {
    "name": "ipython",
    "version": 3
   },
   "file_extension": ".py",
   "mimetype": "text/x-python",
   "name": "python",
   "nbconvert_exporter": "python",
   "pygments_lexer": "ipython3",
   "version": "3.12.0"
  }
 },
 "nbformat": 4,
 "nbformat_minor": 2
}
