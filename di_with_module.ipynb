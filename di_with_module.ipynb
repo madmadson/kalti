{
 "cells": [
  {
   "cell_type": "code",
   "execution_count": 1,
   "metadata": {},
   "outputs": [
    {
     "name": "stdout",
     "output_type": "stream",
     "text": [
      "hallo\n",
      "Ich bin ein Hamster: Hamster\n",
      "Ich bin ein Vogel: Vogel\n"
     ]
    }
   ],
   "source": [
    "from modules.hamster import putzig_sein\n",
    "from modules.vogel import fliegen\n",
    "\n",
    "print('hallo')\n",
    "\n",
    "class SehrKomplizierterSchit:\n",
    "    def tierSchnittstelle(self, func, *args):\n",
    "      func(*args)\n",
    "\n",
    "shit = SehrKomplizierterSchit()\n",
    "\n",
    "#putzig_sein(\"lala\")\n",
    "shit.tierSchnittstelle(putzig_sein, \"Hamster\")\n",
    "shit.tierSchnittstelle(fliegen, \"Vogel\")\n"
   ]
  }
 ],
 "metadata": {
  "kernelspec": {
   "display_name": "Python 3",
   "language": "python",
   "name": "python3"
  },
  "language_info": {
   "codemirror_mode": {
    "name": "ipython",
    "version": 3
   },
   "file_extension": ".py",
   "mimetype": "text/x-python",
   "name": "python",
   "nbconvert_exporter": "python",
   "pygments_lexer": "ipython3",
   "version": "3.12.0"
  }
 },
 "nbformat": 4,
 "nbformat_minor": 2
}
